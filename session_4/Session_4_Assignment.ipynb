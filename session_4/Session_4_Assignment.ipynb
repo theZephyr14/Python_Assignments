{
 "cells": [
  {
   "cell_type": "code",
   "execution_count": 1,
   "metadata": {},
   "outputs": [],
   "source": [
    "import os\n"
   ]
  },
  {
   "cell_type": "code",
   "execution_count": 2,
   "metadata": {},
   "outputs": [
    {
     "data": {
      "text/plain": [
       "'c:\\\\Users\\\\Kevin\\\\Desktop\\\\Python_Workbench\\\\Python_Assignments\\\\session_4'"
      ]
     },
     "execution_count": 2,
     "metadata": {},
     "output_type": "execute_result"
    }
   ],
   "source": [
    "os.getcwd()"
   ]
  },
  {
   "cell_type": "code",
   "execution_count": 3,
   "metadata": {},
   "outputs": [
    {
     "name": "stdout",
     "output_type": "stream",
     "text": [
      "False\n"
     ]
    },
    {
     "ename": "FileNotFoundError",
     "evalue": "[WinError 3] The system cannot find the path specified: 'session_4/annotations'",
     "output_type": "error",
     "traceback": [
      "\u001b[1;31m---------------------------------------------------------------------------\u001b[0m",
      "\u001b[1;31mFileNotFoundError\u001b[0m                         Traceback (most recent call last)",
      "Cell \u001b[1;32mIn[3], line 8\u001b[0m\n\u001b[0;32m      5\u001b[0m  \u001b[38;5;66;03m#looping through file names\u001b[39;00m\n\u001b[0;32m      6\u001b[0m file_count \u001b[38;5;241m=\u001b[39m \u001b[38;5;241m0\u001b[39m\n\u001b[1;32m----> 8\u001b[0m \u001b[38;5;28;01mfor\u001b[39;00m file \u001b[38;5;129;01min\u001b[39;00m os\u001b[38;5;241m.\u001b[39mlistdir(\u001b[38;5;124m'\u001b[39m\u001b[38;5;124msession_4/annotations\u001b[39m\u001b[38;5;124m'\u001b[39m):\n\u001b[0;32m      9\u001b[0m     \u001b[38;5;28;01mif\u001b[39;00m \u001b[38;5;124m'\u001b[39m\u001b[38;5;124mQUICKVIEW_VISUAL\u001b[39m\u001b[38;5;124m'\u001b[39m \u001b[38;5;129;01min\u001b[39;00m file:\n\u001b[0;32m     10\u001b[0m         file_count \u001b[38;5;241m+\u001b[39m\u001b[38;5;241m=\u001b[39m \u001b[38;5;241m1\u001b[39m\n",
      "\u001b[1;31mFileNotFoundError\u001b[0m: [WinError 3] The system cannot find the path specified: 'session_4/annotations'"
     ]
    }
   ],
   "source": [
    "#1\n",
    "os.path.join('session_4/', 'annotations')\n",
    "#Checking if the new path exists\n",
    "print(os.path.exists('session_4/annotations'))\n",
    " #looping through file names\n",
    "file_count = 0\n",
    "\n",
    "for file in os.listdir('session_4/annotations'):\n",
    "    if 'QUICKVIEW_VISUAL' in file:\n",
    "        file_count += 1\n",
    "\n",
    "    else: print('empty')\n",
    "print (\"the total number of files are: \", file_count)    \n"
   ]
  },
  {
   "cell_type": "code",
   "execution_count": null,
   "metadata": {},
   "outputs": [],
   "source": [
    "#2\n",
    "import re\n",
    "#using regex to analyse naming format\n",
    "pattern = re.compile(r'^\\d{8}_\\d{6}_SN\\d+_QUICKVIEW_VISUAL.*\\.txt$')\n",
    "#loop to find pattern in other file names\n",
    "for file in os.listdir('session_4/annotations'):\n",
    "    file_name = os.path.basename(file)\n",
    "    if not pattern.match(file_name):\n",
    "        print(f\"File does not follow the convention: {file_name}\")\n",
    "    else:\n",
    "        pass\n"
   ]
  },
  {
   "cell_type": "code",
   "execution_count": null,
   "metadata": {},
   "outputs": [],
   "source": [
    "#3\n",
    "from collections import defaultdict\n",
    "#Creating dictionaries for years and months\n",
    "per_month = defaultdict(int)\n",
    "per_year = defaultdict(int)\n",
    "#Creating a list of the filenames\n",
    "for file in os.listdir('session_4/annotations'):\n",
    "    file_name = os.path.basename(file)\n",
    "    if len(file_name) >= 8 and file_name[:8].isdigit():\n",
    "        # Extract year \n",
    "        year = file_name[:4]\n",
    "        # Extract month\n",
    "        month = file_name[4:6]\n",
    "        \n",
    "        # count files by year\n",
    "        per_year[year] += 1\n",
    "        \n",
    "        # count files by month\n",
    "        per_month[month] += 1\n",
    "print (\"The releases for each month are: \", per_month)\n",
    "print(\"The releases for each year are:\",  per_year)\n",
    "\n",
    "max_month = max(per_month, key=per_month.get)  # month with the maximum count\n",
    "max_count = per_month[max_month]\n",
    "print(\"The month with maximum annotations is: \", max_month,'with: ', max_count, \"many satellites\")"
   ]
  },
  {
   "cell_type": "code",
   "execution_count": null,
   "metadata": {},
   "outputs": [],
   "source": [
    "#Creating new folder to store data for each month\n",
    "if not os.path.exists('Annotations_2'):\n",
    "    os.mkdir('Annotations_2')\n",
    "#creating a folder for each month\n",
    "for month in per_month.keys():\n",
    "     month_folder = f'Annotations_2/{month}'\n",
    "     os.mkdir(month_folder)\n",
    "\n"
   ]
  },
  {
   "cell_type": "code",
   "execution_count": null,
   "metadata": {},
   "outputs": [],
   "source": [
    "#4\n",
    "import os\n",
    "import shutil\n",
    "\n",
    "# defining directories\n",
    "from_fold = r'C:\\Users\\Kevin\\Desktop\\ESADE_Classes\\Python\\session_4\\annotations'\n",
    "to_fold = r'C:\\Users\\Kevin\\Desktop\\ESADE_Classes\\Python\\Annotations_2'\n",
    "\n",
    "# going through files in from_folder\n",
    "for file in os.listdir(from_fold):\n",
    "    if os.path.isfile(os.path.join(from_fold, file)):\n",
    "        # month position\n",
    "        file_month = file[4:6]\n",
    "        # Define target folder \n",
    "        target_folder = os.path.join(to_fold, file_month)\n",
    "        #further defining target folder to \n",
    "        source_file = os.path.join(from_fold, file)\n",
    "        target_file = os.path.join(target_folder, file)\n",
    "        #Copying from source path to target path\n",
    "        shutil.copy(source_file, target_file)\n",
    "\n",
    "        print(f\"Copied {file} to {target_folder}\")\n"
   ]
  },
  {
   "cell_type": "code",
   "execution_count": null,
   "metadata": {},
   "outputs": [],
   "source": [
    "#5\n",
    "#creating new folder\n",
    "os.mkdir('Sorted_anno')\n",
    "#defining path of new folder\n",
    "Sorted_anno = r'C:\\Users\\Kevin\\Desktop\\ESADE_Classes\\Python\\Sorted_anno'\n",
    "#listing out file names. To sort\n",
    "unsorted_files = os.listdir(from_fold)\n",
    "#Sorting\n",
    "sorted_files = sorted(unsorted_files, key=lambda x: x[:15], reverse=True)\n",
    "#looping through sorted files list\n",
    "for file in sorted_files:\n",
    "    #defining source path and target path\n",
    "    source_path = os.path.join(from_fold, file)\n",
    "    target_path = os.path.join(Sorted_anno, file)\n",
    "    #copying paths matching with sorted files list\n",
    "    shutil.copy(source_path, target_path)\n",
    "print(\"Files from most recent to most oldest are: \" , sorted_files)    \n"
   ]
  },
  {
   "cell_type": "code",
   "execution_count": null,
   "metadata": {},
   "outputs": [],
   "source": [
    "#6\n",
    "#converting original folder to list of names\n",
    "file_names = os.listdir(from_fold)\n",
    "#Dictionary for satellites\n",
    "sn_dict = defaultdict(int)\n",
    "\n",
    "for file in file_names:\n",
    "#finding the numbers after SN and adding to dictionary\n",
    "    sn_index = file.find(\"SN\")\n",
    "    if sn_index != -1:\n",
    "        sn_num = file[sn_index +2 : sn_index +4]\n",
    "        sn_dict[sn_num] += 1\n",
    "\n",
    "    else:\n",
    "        pass    \n",
    "#To  find and print the unique SNs\n",
    "unique_sn = len(sn_dict)\n",
    "print(\"There are: \", unique_sn, \"unique satellites\")\n",
    "\n",
    "#Counting each SN's total activities\n",
    "for sn, count in sn_dict.items():\n",
    "    print(f\"the Satellite SN{sn} has {count} files\")\n",
    "\n",
    "#Finding the most recent annotation and its linked satellite\n",
    "first_file = sorted_files[0]\n",
    "sn_index = first_file.find(\"SN\")\n",
    "sn_numbers = first_file[sn_index + 2:sn_index + 4]\n",
    "print(\"The latest activity is observed on: \", sn_numbers)\n"
   ]
  },
  {
   "cell_type": "code",
   "execution_count": null,
   "metadata": {},
   "outputs": [],
   "source": [
    "#7\n",
    "rg_dict = defaultdict(int)\n",
    "for file in file_names:\n",
    "\n",
    "    sn_index = file.find(\"KM-\")\n",
    "    if sn_index != -1:\n",
    "        sn_num = file[sn_index +2 : ]\n",
    "        rg_dict[sn_num] += 1\n",
    "    else:\n",
    "        pass\n",
    "unique_rg = len(rg_dict)\n",
    "print(\"There are \", unique_rg, \"unique regions\")\n",
    "\n",
    "#for rg, count in rg_dict.items():\n",
    " #   print(f\"RG{rg}: {count} files\")"
   ]
  }
 ],
 "metadata": {
  "kernelspec": {
   "display_name": "base",
   "language": "python",
   "name": "python3"
  },
  "language_info": {
   "codemirror_mode": {
    "name": "ipython",
    "version": 3
   },
   "file_extension": ".py",
   "mimetype": "text/x-python",
   "name": "python",
   "nbconvert_exporter": "python",
   "pygments_lexer": "ipython3",
   "version": "3.12.4"
  }
 },
 "nbformat": 4,
 "nbformat_minor": 2
}
