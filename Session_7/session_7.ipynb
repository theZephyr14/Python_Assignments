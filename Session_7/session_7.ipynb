{
 "cells": [
  {
   "cell_type": "markdown",
   "metadata": {},
   "source": [
    "1. Create a new column called **professor_initials** that stores the initials of each professor's first and last names. Use the following data:"
   ]
  },
  {
   "cell_type": "code",
   "execution_count": 1,
   "metadata": {},
   "outputs": [
    {
     "data": {
      "text/plain": [
       "0    LK\n",
       "1    AT\n",
       "2    MG\n",
       "3    BL\n",
       "Name: professor_initials, dtype: object"
      ]
     },
     "execution_count": 1,
     "metadata": {},
     "output_type": "execute_result"
    }
   ],
   "source": [
    "import pandas as pd\n",
    "data = {\n",
    "    'professor': ['Ludmila Kuncheva', 'Antonio Torralba', 'Manuel Gonzalez', 'Bastian Leibe'],\n",
    "    'department': ['Computer Science', 'Computer Vision', 'AI & Robotics', 'Autonomous Systems'],\n",
    "    'age': [45, 50, 47, 38]\n",
    "}\n",
    "\n",
    "df = pd.DataFrame(data)\n",
    "df[['first_name', 'last_name']] = df['professor'].str.split(' ', expand=True)\n",
    "df\n",
    "df['professor_initials'] = df['first_name'].str.extract(r'(^.)') + df['last_name'].str.extract(r'(^.)')\n",
    "df['professor_initials']\n"
   ]
  },
  {
   "cell_type": "markdown",
   "metadata": {},
   "source": [
    "2. Given the dataframe below. Use **join** to combine this new DataFrame with the original one based on the professor column."
   ]
  },
  {
   "cell_type": "code",
   "execution_count": 2,
   "metadata": {},
   "outputs": [
    {
     "data": {
      "text/html": [
       "<div>\n",
       "<style scoped>\n",
       "    .dataframe tbody tr th:only-of-type {\n",
       "        vertical-align: middle;\n",
       "    }\n",
       "\n",
       "    .dataframe tbody tr th {\n",
       "        vertical-align: top;\n",
       "    }\n",
       "\n",
       "    .dataframe thead th {\n",
       "        text-align: right;\n",
       "    }\n",
       "</style>\n",
       "<table border=\"1\" class=\"dataframe\">\n",
       "  <thead>\n",
       "    <tr style=\"text-align: right;\">\n",
       "      <th></th>\n",
       "      <th>professor</th>\n",
       "      <th>department</th>\n",
       "      <th>age</th>\n",
       "      <th>first_name</th>\n",
       "      <th>last_name</th>\n",
       "      <th>professor_initials</th>\n",
       "      <th>courses</th>\n",
       "    </tr>\n",
       "  </thead>\n",
       "  <tbody>\n",
       "    <tr>\n",
       "      <th>0</th>\n",
       "      <td>Ludmila Kuncheva</td>\n",
       "      <td>Computer Science</td>\n",
       "      <td>45</td>\n",
       "      <td>Ludmila</td>\n",
       "      <td>Kuncheva</td>\n",
       "      <td>LK</td>\n",
       "      <td>Machine Learning</td>\n",
       "    </tr>\n",
       "    <tr>\n",
       "      <th>1</th>\n",
       "      <td>Antonio Torralba</td>\n",
       "      <td>Computer Vision</td>\n",
       "      <td>50</td>\n",
       "      <td>Antonio</td>\n",
       "      <td>Torralba</td>\n",
       "      <td>AT</td>\n",
       "      <td>Computer Vision</td>\n",
       "    </tr>\n",
       "    <tr>\n",
       "      <th>2</th>\n",
       "      <td>Manuel Gonzalez</td>\n",
       "      <td>AI &amp; Robotics</td>\n",
       "      <td>47</td>\n",
       "      <td>Manuel</td>\n",
       "      <td>Gonzalez</td>\n",
       "      <td>MG</td>\n",
       "      <td>AI Programming</td>\n",
       "    </tr>\n",
       "    <tr>\n",
       "      <th>3</th>\n",
       "      <td>Bastian Leibe</td>\n",
       "      <td>Autonomous Systems</td>\n",
       "      <td>38</td>\n",
       "      <td>Bastian</td>\n",
       "      <td>Leibe</td>\n",
       "      <td>BL</td>\n",
       "      <td>Self-Driving Cars</td>\n",
       "    </tr>\n",
       "  </tbody>\n",
       "</table>\n",
       "</div>"
      ],
      "text/plain": [
       "          professor          department  age first_name last_name  \\\n",
       "0  Ludmila Kuncheva    Computer Science   45    Ludmila  Kuncheva   \n",
       "1  Antonio Torralba     Computer Vision   50    Antonio  Torralba   \n",
       "2   Manuel Gonzalez       AI & Robotics   47     Manuel  Gonzalez   \n",
       "3     Bastian Leibe  Autonomous Systems   38    Bastian     Leibe   \n",
       "\n",
       "  professor_initials            courses  \n",
       "0                 LK   Machine Learning  \n",
       "1                 AT    Computer Vision  \n",
       "2                 MG     AI Programming  \n",
       "3                 BL  Self-Driving Cars  "
      ]
     },
     "execution_count": 2,
     "metadata": {},
     "output_type": "execute_result"
    }
   ],
   "source": [
    "\n",
    "courses_data = {\n",
    "    'professor': ['Ludmila Kuncheva', 'Antonio Torralba', 'Manuel Gonzalez', 'Bastian Leibe'],\n",
    "    'courses': ['Machine Learning', 'Computer Vision', 'AI Programming', 'Self-Driving Cars']\n",
    "}\n",
    "df_courses = pd.DataFrame(courses_data)\n",
    "\n",
    "df_courses.set_index('professor', inplace=True)\n",
    "df.join(df_courses, on= 'professor', how= 'inner')\n"
   ]
  },
  {
   "cell_type": "markdown",
   "metadata": {},
   "source": [
    "3. Combine the original df and df_courses DataFrames."
   ]
  },
  {
   "cell_type": "code",
   "execution_count": 3,
   "metadata": {},
   "outputs": [
    {
     "data": {
      "text/html": [
       "<div>\n",
       "<style scoped>\n",
       "    .dataframe tbody tr th:only-of-type {\n",
       "        vertical-align: middle;\n",
       "    }\n",
       "\n",
       "    .dataframe tbody tr th {\n",
       "        vertical-align: top;\n",
       "    }\n",
       "\n",
       "    .dataframe thead th {\n",
       "        text-align: right;\n",
       "    }\n",
       "</style>\n",
       "<table border=\"1\" class=\"dataframe\">\n",
       "  <thead>\n",
       "    <tr style=\"text-align: right;\">\n",
       "      <th></th>\n",
       "      <th>professor</th>\n",
       "      <th>department</th>\n",
       "      <th>age</th>\n",
       "      <th>courses</th>\n",
       "    </tr>\n",
       "  </thead>\n",
       "  <tbody>\n",
       "    <tr>\n",
       "      <th>0</th>\n",
       "      <td>Ludmila Kuncheva</td>\n",
       "      <td>Computer Science</td>\n",
       "      <td>45</td>\n",
       "      <td>Machine Learning</td>\n",
       "    </tr>\n",
       "    <tr>\n",
       "      <th>1</th>\n",
       "      <td>Antonio Torralba</td>\n",
       "      <td>Computer Vision</td>\n",
       "      <td>50</td>\n",
       "      <td>Computer Vision</td>\n",
       "    </tr>\n",
       "    <tr>\n",
       "      <th>2</th>\n",
       "      <td>Manuel Gonzalez</td>\n",
       "      <td>AI &amp; Robotics</td>\n",
       "      <td>47</td>\n",
       "      <td>AI Programming</td>\n",
       "    </tr>\n",
       "    <tr>\n",
       "      <th>3</th>\n",
       "      <td>Bastian Leibe</td>\n",
       "      <td>Autonomous Systems</td>\n",
       "      <td>38</td>\n",
       "      <td>Self-Driving Cars</td>\n",
       "    </tr>\n",
       "  </tbody>\n",
       "</table>\n",
       "</div>"
      ],
      "text/plain": [
       "          professor          department  age            courses\n",
       "0  Ludmila Kuncheva    Computer Science   45   Machine Learning\n",
       "1  Antonio Torralba     Computer Vision   50    Computer Vision\n",
       "2   Manuel Gonzalez       AI & Robotics   47     AI Programming\n",
       "3     Bastian Leibe  Autonomous Systems   38  Self-Driving Cars"
      ]
     },
     "execution_count": 3,
     "metadata": {},
     "output_type": "execute_result"
    }
   ],
   "source": [
    "data = {\n",
    "    'professor': ['Ludmila Kuncheva', 'Antonio Torralba', 'Manuel Gonzalez', 'Bastian Leibe'],\n",
    "    'department': ['Computer Science', 'Computer Vision', 'AI & Robotics', 'Autonomous Systems'],\n",
    "    'age': [45, 50, 47, 38]\n",
    "}\n",
    "\n",
    "df = pd.DataFrame(data)\n",
    "\n",
    "courses_data = {\n",
    "    'professor': ['Ludmila Kuncheva', 'Antonio Torralba', 'Manuel Gonzalez', 'Bastian Leibe'],\n",
    "    'courses': ['Machine Learning', 'Computer Vision', 'AI Programming', 'Self-Driving Cars']\n",
    "}\n",
    "df_courses = pd.DataFrame(courses_data)\n",
    "\n",
    "df_courses.set_index('professor', inplace=True)\n",
    "df.join(df_courses, on= 'professor', how= 'inner')"
   ]
  },
  {
   "cell_type": "markdown",
   "metadata": {},
   "source": [
    "4. In the professor column, create a new column professor_last_name by extracting the last name of each professor using string operations."
   ]
  },
  {
   "cell_type": "code",
   "execution_count": 4,
   "metadata": {},
   "outputs": [
    {
     "data": {
      "text/html": [
       "<div>\n",
       "<style scoped>\n",
       "    .dataframe tbody tr th:only-of-type {\n",
       "        vertical-align: middle;\n",
       "    }\n",
       "\n",
       "    .dataframe tbody tr th {\n",
       "        vertical-align: top;\n",
       "    }\n",
       "\n",
       "    .dataframe thead th {\n",
       "        text-align: right;\n",
       "    }\n",
       "</style>\n",
       "<table border=\"1\" class=\"dataframe\">\n",
       "  <thead>\n",
       "    <tr style=\"text-align: right;\">\n",
       "      <th></th>\n",
       "      <th>professor</th>\n",
       "      <th>department</th>\n",
       "      <th>age</th>\n",
       "      <th>professor_last_name</th>\n",
       "    </tr>\n",
       "  </thead>\n",
       "  <tbody>\n",
       "    <tr>\n",
       "      <th>0</th>\n",
       "      <td>Ludmila Kuncheva</td>\n",
       "      <td>Computer Science</td>\n",
       "      <td>45</td>\n",
       "      <td>Kuncheva</td>\n",
       "    </tr>\n",
       "    <tr>\n",
       "      <th>1</th>\n",
       "      <td>Antonio Torralba</td>\n",
       "      <td>Computer Vision</td>\n",
       "      <td>50</td>\n",
       "      <td>Torralba</td>\n",
       "    </tr>\n",
       "    <tr>\n",
       "      <th>2</th>\n",
       "      <td>Manuel Gonzalez</td>\n",
       "      <td>AI &amp; Robotics</td>\n",
       "      <td>47</td>\n",
       "      <td>Gonzalez</td>\n",
       "    </tr>\n",
       "    <tr>\n",
       "      <th>3</th>\n",
       "      <td>Bastian Leibe</td>\n",
       "      <td>Autonomous Systems</td>\n",
       "      <td>38</td>\n",
       "      <td>Leibe</td>\n",
       "    </tr>\n",
       "  </tbody>\n",
       "</table>\n",
       "</div>"
      ],
      "text/plain": [
       "          professor          department  age professor_last_name\n",
       "0  Ludmila Kuncheva    Computer Science   45            Kuncheva\n",
       "1  Antonio Torralba     Computer Vision   50            Torralba\n",
       "2   Manuel Gonzalez       AI & Robotics   47            Gonzalez\n",
       "3     Bastian Leibe  Autonomous Systems   38               Leibe"
      ]
     },
     "execution_count": 4,
     "metadata": {},
     "output_type": "execute_result"
    }
   ],
   "source": [
    "#df = df[['first_name', 'last_name']] = df['professor'].str.split(' ', expand=True)\n",
    "df['professor_last_name'] = df['professor'].str.extract(r'\\s(\\S+)$')\n",
    "df"
   ]
  }
 ],
 "metadata": {
  "kernelspec": {
   "display_name": "base",
   "language": "python",
   "name": "python3"
  },
  "language_info": {
   "codemirror_mode": {
    "name": "ipython",
    "version": 3
   },
   "file_extension": ".py",
   "mimetype": "text/x-python",
   "name": "python",
   "nbconvert_exporter": "python",
   "pygments_lexer": "ipython3",
   "version": "3.12.4"
  }
 },
 "nbformat": 4,
 "nbformat_minor": 2
}
